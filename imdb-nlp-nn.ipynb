{
 "cells": [
  {
   "cell_type": "markdown",
   "metadata": {
    "papermill": {
     "duration": 0.024943,
     "end_time": "2021-02-02T06:19:44.636058",
     "exception": false,
     "start_time": "2021-02-02T06:19:44.611115",
     "status": "completed"
    },
    "tags": []
   },
   "source": [
    "# Importing Libraries"
   ]
  },
  {
   "cell_type": "code",
   "execution_count": 1,
   "metadata": {
    "_cell_guid": "b1076dfc-b9ad-4769-8c92-a6c4dae69d19",
    "_uuid": "8f2839f25d086af736a60e9eeb907d3b93b6e0e5",
    "execution": {
     "iopub.execute_input": "2021-02-02T06:19:44.694445Z",
     "iopub.status.busy": "2021-02-02T06:19:44.693825Z",
     "iopub.status.idle": "2021-02-02T06:19:50.451691Z",
     "shell.execute_reply": "2021-02-02T06:19:50.452273Z"
    },
    "papermill": {
     "duration": 5.791333,
     "end_time": "2021-02-02T06:19:50.452616",
     "exception": false,
     "start_time": "2021-02-02T06:19:44.661283",
     "status": "completed"
    },
    "tags": []
   },
   "outputs": [
    {
     "name": "stdout",
     "output_type": "stream",
     "text": [
      "/kaggle/input/pickled-glove840b300d-for-10sec-loading/glove.840B.300d.pkl\n",
      "/kaggle/input/imdb-dataset-of-50k-movie-reviews/IMDB Dataset.csv\n"
     ]
    }
   ],
   "source": [
    "\n",
    "import os\n",
    "import pandas as pd\n",
    "import numpy as np\n",
    "import gc\n",
    "import matplotlib.pyplot as plt\n",
    "import operator\n",
    "import seaborn as sns\n",
    "from wordcloud import WordCloud,STOPWORDS\n",
    "\n",
    "import re\n",
    "\n",
    "\n",
    "import tensorflow as tf\n",
    "from sklearn.model_selection import train_test_split\n",
    "from sklearn.preprocessing import LabelEncoder\n",
    "from tensorflow import keras\n",
    "\n",
    "from keras.callbacks import EarlyStopping,ModelCheckpoint\n",
    "from keras.utils import to_categorical\n",
    "from keras.preprocessing.text import Tokenizer\n",
    "from keras.preprocessing.sequence import pad_sequences\n",
    "from keras.layers import Embedding,Conv1D,LSTM,GRU,BatchNormalization,Flatten,Dense\n"
   ]
  },
  {
   "cell_type": "markdown",
   "metadata": {
    "papermill": {
     "duration": 0.024922,
     "end_time": "2021-02-02T06:19:50.504246",
     "exception": false,
     "start_time": "2021-02-02T06:19:50.479324",
     "status": "completed"
    },
    "tags": []
   },
   "source": [
    "# Data Preprocessing"
   ]
  },
  {
   "cell_type": "code",
   "execution_count": 2,
   "metadata": {
    "execution": {
     "iopub.execute_input": "2021-02-02T06:19:50.579204Z",
     "iopub.status.busy": "2021-02-02T06:19:50.578580Z",
     "iopub.status.idle": "2021-02-02T06:19:51.765432Z",
     "shell.execute_reply": "2021-02-02T06:19:51.764940Z"
    },
    "papermill": {
     "duration": 1.235406,
     "end_time": "2021-02-02T06:19:51.765565",
     "exception": false,
     "start_time": "2021-02-02T06:19:50.530159",
     "status": "completed"
    },
    "tags": []
   },
   "outputs": [
    {
     "data": {
      "text/html": [
       "<div>\n",
       "<style scoped>\n",
       "    .dataframe tbody tr th:only-of-type {\n",
       "        vertical-align: middle;\n",
       "    }\n",
       "\n",
       "    .dataframe tbody tr th {\n",
       "        vertical-align: top;\n",
       "    }\n",
       "\n",
       "    .dataframe thead th {\n",
       "        text-align: right;\n",
       "    }\n",
       "</style>\n",
       "<table border=\"1\" class=\"dataframe\">\n",
       "  <thead>\n",
       "    <tr style=\"text-align: right;\">\n",
       "      <th></th>\n",
       "      <th>review</th>\n",
       "      <th>sentiment</th>\n",
       "    </tr>\n",
       "  </thead>\n",
       "  <tbody>\n",
       "    <tr>\n",
       "      <th>0</th>\n",
       "      <td>One of the other reviewers has mentioned that ...</td>\n",
       "      <td>positive</td>\n",
       "    </tr>\n",
       "    <tr>\n",
       "      <th>1</th>\n",
       "      <td>A wonderful little production. &lt;br /&gt;&lt;br /&gt;The...</td>\n",
       "      <td>positive</td>\n",
       "    </tr>\n",
       "    <tr>\n",
       "      <th>2</th>\n",
       "      <td>I thought this was a wonderful way to spend ti...</td>\n",
       "      <td>positive</td>\n",
       "    </tr>\n",
       "    <tr>\n",
       "      <th>3</th>\n",
       "      <td>Basically there's a family where a little boy ...</td>\n",
       "      <td>negative</td>\n",
       "    </tr>\n",
       "    <tr>\n",
       "      <th>4</th>\n",
       "      <td>Petter Mattei's \"Love in the Time of Money\" is...</td>\n",
       "      <td>positive</td>\n",
       "    </tr>\n",
       "  </tbody>\n",
       "</table>\n",
       "</div>"
      ],
      "text/plain": [
       "                                              review sentiment\n",
       "0  One of the other reviewers has mentioned that ...  positive\n",
       "1  A wonderful little production. <br /><br />The...  positive\n",
       "2  I thought this was a wonderful way to spend ti...  positive\n",
       "3  Basically there's a family where a little boy ...  negative\n",
       "4  Petter Mattei's \"Love in the Time of Money\" is...  positive"
      ]
     },
     "execution_count": 2,
     "metadata": {},
     "output_type": "execute_result"
    }
   ],
   "source": [
    "df= pd.read_csv('./IMDB Dataset.csv')\n",
    "df.head()"
   ]
  },
  {
   "cell_type": "code",
   "execution_count": 3,
   "metadata": {
    "execution": {
     "iopub.execute_input": "2021-02-02T06:19:51.833355Z",
     "iopub.status.busy": "2021-02-02T06:19:51.832567Z",
     "iopub.status.idle": "2021-02-02T06:19:51.845357Z",
     "shell.execute_reply": "2021-02-02T06:19:51.844714Z"
    },
    "papermill": {
     "duration": 0.053921,
     "end_time": "2021-02-02T06:19:51.845520",
     "exception": false,
     "start_time": "2021-02-02T06:19:51.791599",
     "status": "completed"
    },
    "tags": []
   },
   "outputs": [
    {
     "name": "stdout",
     "output_type": "stream",
     "text": [
      "<class 'pandas.core.frame.DataFrame'>\n",
      "RangeIndex: 50000 entries, 0 to 49999\n",
      "Data columns (total 2 columns):\n",
      " #   Column     Non-Null Count  Dtype \n",
      "---  ------     --------------  ----- \n",
      " 0   review     50000 non-null  object\n",
      " 1   sentiment  50000 non-null  object\n",
      "dtypes: object(2)\n",
      "memory usage: 781.4+ KB\n"
     ]
    }
   ],
   "source": [
    "df.info()"
   ]
  },
  {
   "cell_type": "markdown",
   "metadata": {
    "papermill": {
     "duration": 0.027174,
     "end_time": "2021-02-02T06:19:51.899539",
     "exception": false,
     "start_time": "2021-02-02T06:19:51.872365",
     "status": "completed"
    },
    "tags": []
   },
   "source": [
    "<b>Let's find if the data contains any missing value</b>"
   ]
  },
  {
   "cell_type": "code",
   "execution_count": 4,
   "metadata": {
    "execution": {
     "iopub.execute_input": "2021-02-02T06:19:51.967863Z",
     "iopub.status.busy": "2021-02-02T06:19:51.967028Z",
     "iopub.status.idle": "2021-02-02T06:19:51.977388Z",
     "shell.execute_reply": "2021-02-02T06:19:51.978390Z"
    },
    "papermill": {
     "duration": 0.053219,
     "end_time": "2021-02-02T06:19:51.978593",
     "exception": false,
     "start_time": "2021-02-02T06:19:51.925374",
     "status": "completed"
    },
    "tags": []
   },
   "outputs": [
    {
     "data": {
      "text/plain": [
       "review       0\n",
       "sentiment    0\n",
       "dtype: int64"
      ]
     },
     "execution_count": 4,
     "metadata": {},
     "output_type": "execute_result"
    }
   ],
   "source": [
    "df.isnull().sum()"
   ]
  },
  {
   "cell_type": "markdown",
   "metadata": {
    "papermill": {
     "duration": 0.048525,
     "end_time": "2021-02-02T06:19:52.072796",
     "exception": false,
     "start_time": "2021-02-02T06:19:52.024271",
     "status": "completed"
    },
    "tags": []
   },
   "source": [
    "<b>We will find the count of each type of sentiment in the dataset using seaborn library</b>"
   ]
  },
  {
   "cell_type": "code",
   "execution_count": 5,
   "metadata": {
    "execution": {
     "iopub.execute_input": "2021-02-02T06:19:52.172700Z",
     "iopub.status.busy": "2021-02-02T06:19:52.171972Z",
     "iopub.status.idle": "2021-02-02T06:19:52.454093Z",
     "shell.execute_reply": "2021-02-02T06:19:52.454769Z"
    },
    "papermill": {
     "duration": 0.336217,
     "end_time": "2021-02-02T06:19:52.455013",
     "exception": false,
     "start_time": "2021-02-02T06:19:52.118796",
     "status": "completed"
    },
    "tags": []
   },
   "outputs": [
    {
     "data": {
      "image/png": "[encoded data removed]",
      "text/plain": [
       "<Figure size 432x288 with 1 Axes>"
      ]
     },
     "metadata": {
      "needs_background": "light"
     },
     "output_type": "display_data"
    }
   ],
   "source": [
    "sns.countplot(x=df['sentiment'])\n",
    "plt.grid()"
   ]
  },
  {
   "cell_type": "code",
   "execution_count": 6,
   "metadata": {
    "execution": {
     "iopub.execute_input": "2021-02-02T06:19:52.559967Z",
     "iopub.status.busy": "2021-02-02T06:19:52.559200Z",
     "iopub.status.idle": "2021-02-02T06:19:52.581425Z",
     "shell.execute_reply": "2021-02-02T06:19:52.582359Z"
    },
    "papermill": {
     "duration": 0.078863,
     "end_time": "2021-02-02T06:19:52.582550",
     "exception": false,
     "start_time": "2021-02-02T06:19:52.503687",
     "status": "completed"
    },
    "tags": []
   },
   "outputs": [],
   "source": [
    "sentences=df['review']\n",
    "le=LabelEncoder()\n",
    "df['sentiment']= le.fit_transform(df['sentiment'])"
   ]
  },
  {
   "cell_type": "markdown",
   "metadata": {
    "papermill": {
     "duration": 0.03914,
     "end_time": "2021-02-02T06:20:38.713911",
     "exception": false,
     "start_time": "2021-02-02T06:20:38.674771",
     "status": "completed"
    },
    "tags": []
   },
   "source": [
    "# Data Cleaning"
   ]
  },
  {
   "cell_type": "code",
   "execution_count": 10,
   "metadata": {
    "execution": {
     "iopub.execute_input": "2021-02-02T06:20:38.876739Z",
     "iopub.status.busy": "2021-02-02T06:20:38.876135Z",
     "iopub.status.idle": "2021-02-02T06:21:19.248737Z",
     "shell.execute_reply": "2021-02-02T06:21:19.247660Z"
    },
    "papermill": {
     "duration": 40.417294,
     "end_time": "2021-02-02T06:21:19.248900",
     "exception": false,
     "start_time": "2021-02-02T06:20:38.831606",
     "status": "completed"
    },
    "tags": []
   },
   "outputs": [],
   "source": [
    "glove_embeddings= np.load('./data/glove.840B.300d.pkl',\n",
    "                          allow_pickle=True)"
   ]
  },
  {
   "cell_type": "code",
   "execution_count": 11,
   "metadata": {
    "execution": {
     "iopub.execute_input": "2021-02-02T06:21:19.414079Z",
     "iopub.status.busy": "2021-02-02T06:21:19.412312Z",
     "iopub.status.idle": "2021-02-02T06:21:19.414649Z",
     "shell.execute_reply": "2021-02-02T06:21:19.415061Z"
    },
    "papermill": {
     "duration": 0.047468,
     "end_time": "2021-02-02T06:21:19.415192",
     "exception": false,
     "start_time": "2021-02-02T06:21:19.367724",
     "status": "completed"
    },
    "tags": []
   },
   "outputs": [],
   "source": [
    "def vocab_build(review):\n",
    "    \n",
    "    comments = review.apply(lambda s: s.split()).values\n",
    "    vocab={}\n",
    "    \n",
    "    for comment in comments:\n",
    "        for word in comment:\n",
    "            try:\n",
    "                vocab[word]+=1\n",
    "                \n",
    "            except KeyError:\n",
    "                vocab[word]=1\n",
    "    return vocab"
   ]
  },
  {
   "cell_type": "code",
   "execution_count": 12,
   "metadata": {
    "execution": {
     "iopub.execute_input": "2021-02-02T06:21:19.581094Z",
     "iopub.status.busy": "2021-02-02T06:21:19.580393Z",
     "iopub.status.idle": "2021-02-02T06:21:19.584372Z",
     "shell.execute_reply": "2021-02-02T06:21:19.583941Z"
    },
    "papermill": {
     "duration": 0.051761,
     "end_time": "2021-02-02T06:21:19.584481",
     "exception": false,
     "start_time": "2021-02-02T06:21:19.532720",
     "status": "completed"
    },
    "tags": []
   },
   "outputs": [],
   "source": [
    "def embedding_coverage(review,embeddings):\n",
    "    \n",
    "    vocab=vocab_build(review)\n",
    "    \n",
    "    covered={}\n",
    "    word_count={}\n",
    "    oov={}\n",
    "    covered_num=0\n",
    "    oov_num=0\n",
    "    \n",
    "    for word in vocab:\n",
    "        try:\n",
    "            covered[word]=embeddings[word]\n",
    "            covered_num+=vocab[word]\n",
    "            word_count[word]=vocab[word]\n",
    "        except:\n",
    "            oov[word]=vocab[word]\n",
    "            oov_num+=oov[word]\n",
    "    \n",
    "    vocab_coverage=len(covered)/len(vocab)*100\n",
    "    text_coverage = covered_num/(covered_num+oov_num)*100\n",
    "    \n",
    "    sorted_oov=sorted(oov.items(), key=operator.itemgetter(1))[::-1]\n",
    "    sorted_word_count=sorted(word_count.items(), key=operator.itemgetter(1))[::-1]\n",
    "    \n",
    "    return sorted_word_count,sorted_oov,vocab_coverage,text_coverage\n",
    "        "
   ]
  },
  {
   "cell_type": "code",
   "execution_count": 13,
   "metadata": {
    "execution": {
     "iopub.execute_input": "2021-02-02T06:21:19.686319Z",
     "iopub.status.busy": "2021-02-02T06:21:19.669765Z",
     "iopub.status.idle": "2021-02-02T06:21:24.486578Z",
     "shell.execute_reply": "2021-02-02T06:21:24.487069Z"
    },
    "papermill": {
     "duration": 4.863093,
     "end_time": "2021-02-02T06:21:24.487220",
     "exception": false,
     "start_time": "2021-02-02T06:21:19.624127",
     "status": "completed"
    },
    "tags": []
   },
   "outputs": [
    {
     "name": "stdout",
     "output_type": "stream",
     "text": [
      "Glove embeddings cover 26.74% of vocabulary and 87.62% text in training set\n",
      "Glove embeddings cover 42.72% of vocabulary and 87.73% text in testing set\n"
     ]
    }
   ],
   "source": [
    "train_covered,train_oov,train_vocab_coverage,train_text_coverage=embedding_coverage(X_train,glove_embeddings)\n",
    "test_covered,test_oov, test_vocab_coverage, test_text_coverage = embedding_coverage(X_test,glove_embeddings)\n",
    "\n",
    "print(f\"Glove embeddings cover {round(train_vocab_coverage,2)}% of vocabulary and {round(train_text_coverage,2)}% text in training set\")\n",
    "print(f\"Glove embeddings cover {round(test_vocab_coverage,2)}% of vocabulary and {round(test_text_coverage,2)}% text in testing set\")"
   ]
  },
  {
   "cell_type": "code",
   "execution_count": 15,
   "metadata": {
    "execution": {
     "iopub.execute_input": "2021-02-02T06:21:24.760372Z",
     "iopub.status.busy": "2021-02-02T06:21:24.759528Z",
     "iopub.status.idle": "2021-02-02T06:21:24.762519Z",
     "shell.execute_reply": "2021-02-02T06:21:24.762073Z"
    },
    "papermill": {
     "duration": 0.065725,
     "end_time": "2021-02-02T06:21:24.762671",
     "exception": false,
     "start_time": "2021-02-02T06:21:24.696946",
     "status": "completed"
    },
    "tags": []
   },
   "outputs": [],
   "source": [
    "def clean_sentences(line):\n",
    "    \n",
    "    line=re.sub('<.*?>','',line) # removing html tags\n",
    "    \n",
    "    #removing contractions\n",
    "    line=re.sub(\"isn't\",'is not',line)\n",
    "    line=re.sub(\"he's\",'he is',line)\n",
    "    line=re.sub(\"wasn't\",'was not',line)\n",
    "    line=re.sub(\"there's\",'there is',line)\n",
    "    line=re.sub(\"couldn't\",'could not',line)\n",
    "    line=re.sub(\"won't\",'will not',line)\n",
    "    line=re.sub(\"they're\",'they are',line)\n",
    "    line=re.sub(\"she's\",'she is',line)\n",
    "    line=re.sub(\"There's\",'there is',line)\n",
    "    line=re.sub(\"wouldn't\",'would not',line)\n",
    "    line=re.sub(\"haven't\",'have not',line)\n",
    "    line=re.sub(\"That's\",'That is',line)\n",
    "    line=re.sub(\"you've\",'you have',line)\n",
    "    line=re.sub(\"He's\",'He is',line)\n",
    "    line=re.sub(\"what's\",'what is',line)\n",
    "    line=re.sub(\"weren't\",'were not',line)\n",
    "    line=re.sub(\"we're\",'we are',line)\n",
    "    line=re.sub(\"hasn't\",'has not',line)\n",
    "    line=re.sub(\"you'd\",'you would',line)\n",
    "    line=re.sub(\"shouldn't\",'should not',line)\n",
    "    line=re.sub(\"let's\",'let us',line)\n",
    "    line=re.sub(\"they've\",'they have',line)\n",
    "    line=re.sub(\"You'll\",'You will',line)\n",
    "    line=re.sub(\"i'm\",'i am',line)\n",
    "    line=re.sub(\"we've\",'we have',line)\n",
    "    line=re.sub(\"it's\",'it is',line)\n",
    "    line=re.sub(\"don't\",'do not',line)\n",
    "    line=re.sub(\"that´s\",'that is',line)\n",
    "    line=re.sub(\"I´m\",'I am',line)\n",
    "    line=re.sub(\"it’s\",'it is',line)\n",
    "    line=re.sub(\"she´s\",'she is',line)\n",
    "    line=re.sub(\"he’s'\",'he is',line)\n",
    "    line=re.sub('I’m','I am',line)\n",
    "    line=re.sub('I’d','I did',line)\n",
    "    line=re.sub(\"he’s'\",'he is',line)\n",
    "    line=re.sub('there’s','there is',line)\n",
    "    \n",
    "    #special characters and emojis\n",
    "    line=re.sub('\\x91The','The',line)\n",
    "    line=re.sub('\\x97','',line)\n",
    "    line=re.sub('\\x84The','The',line)\n",
    "    line=re.sub('\\uf0b7','',line)\n",
    "    line=re.sub('¡¨','',line)\n",
    "    line=re.sub('\\x95','',line)\n",
    "    line=re.sub('\\x8ei\\x9eek','',line)\n",
    "    line=re.sub('\\xad','',line)\n",
    "    line=re.sub('\\x84bubble','bubble',line)\n",
    "    \n",
    "    # remove concated words\n",
    "    line=re.sub('trivialBoring','trivial Boring',line)\n",
    "    line=re.sub('Justforkix','Just for kix',line)\n",
    "    line=re.sub('Nightbeast','Night beast',line)\n",
    "    line=re.sub('DEATHTRAP','Death Trap',line)\n",
    "    line=re.sub('CitizenX','Citizen X',line)\n",
    "    line=re.sub('10Rated','10 Rated',line)\n",
    "    line=re.sub('_The','_ The',line)\n",
    "    line=re.sub('1Sound','1 Sound',line)\n",
    "    line=re.sub('blahblahblahblahblahblahblahblahblahblahblahblahblahblahblahblahblahblah','blah blah',line)\n",
    "    line=re.sub('ResidentHazard','Resident Hazard',line)\n",
    "    line=re.sub('iameracing','i am racing',line)\n",
    "    line=re.sub('BLACKSNAKE','Black Snake',line)\n",
    "    line=re.sub('DEATHSTALKER','Death Stalker',line)\n",
    "    line=re.sub('_is_','is',line)\n",
    "    line=re.sub('10Fans','10 Fans',line)\n",
    "    line=re.sub('Yellowcoat','Yellow coat',line)\n",
    "    line=re.sub('Spiderbabe','Spider babe',line)\n",
    "    line=re.sub('Frightworld','Fright world',line)\n",
    "    \n",
    "    #removing punctuations\n",
    "    \n",
    "    punctuations = '@#!~?+&*[]-%._-:/£();$=><|{}^' + '''\"“´”'`'''\n",
    "    for p in punctuations:\n",
    "        line = line.replace(p, f' {p} ')\n",
    "        \n",
    "    line=re.sub(',',' , ',line)\n",
    "        \n",
    "    # ... and ..\n",
    "    line = line.replace('...', ' ... ')\n",
    "    \n",
    "    if '...' not in line:\n",
    "        line = line.replace('..', ' ... ')\n",
    "        \n",
    "    return line\n",
    "    "
   ]
  },
  {
   "cell_type": "code",
   "execution_count": 16,
   "metadata": {
    "execution": {
     "iopub.execute_input": "2021-02-02T06:21:24.952781Z",
     "iopub.status.busy": "2021-02-02T06:21:24.937434Z",
     "iopub.status.idle": "2021-02-02T06:21:38.642081Z",
     "shell.execute_reply": "2021-02-02T06:21:38.641461Z"
    },
    "papermill": {
     "duration": 13.756848,
     "end_time": "2021-02-02T06:21:38.642256",
     "exception": false,
     "start_time": "2021-02-02T06:21:24.885408",
     "status": "completed"
    },
    "tags": []
   },
   "outputs": [
    {
     "name": "stdout",
     "output_type": "stream",
     "text": [
      "Glove embeddings cover 86.92% of vocabulary and 99.82% text in training set\n",
      "Glove embeddings cover 95.5% of vocabulary and 99.82% text in training set\n"
     ]
    }
   ],
   "source": [
    "X_train=X_train.apply(lambda s: clean_sentences(s))\n",
    "X_test=X_test.apply(lambda s: clean_sentences(s))\n",
    "\n",
    "train_covered,train_oov,train_vocab_coverage,train_text_coverage=embedding_coverage(X_train,glove_embeddings)\n",
    "print(f\"Glove embeddings cover {round(train_vocab_coverage,2)}% of vocabulary and {round(train_text_coverage,2)}% text in training set\")\n",
    "\n",
    "test_covered,test_oov,test_vocab_coverage,test_text_coverage=embedding_coverage(X_test,glove_embeddings)\n",
    "print(f\"Glove embeddings cover {round(test_vocab_coverage,2)}% of vocabulary and {round(test_text_coverage,2)}% text in training set\")\n"
   ]
  },
  {
   "cell_type": "code",
   "execution_count": 17,
   "metadata": {
    "execution": {
     "iopub.execute_input": "2021-02-02T06:21:38.820805Z",
     "iopub.status.busy": "2021-02-02T06:21:38.820189Z",
     "iopub.status.idle": "2021-02-02T06:21:38.823472Z",
     "shell.execute_reply": "2021-02-02T06:21:38.823027Z"
    },
    "papermill": {
     "duration": 0.055403,
     "end_time": "2021-02-02T06:21:38.823582",
     "exception": false,
     "start_time": "2021-02-02T06:21:38.768179",
     "status": "completed"
    },
    "tags": []
   },
   "outputs": [],
   "source": [
    "punctuations = '@#!~?+&*[]-%._-:/£();$=><|{},^' + '''\"“´”'`'''\n",
    "train_word=[]\n",
    "train_count=[]\n",
    "\n",
    "i=1\n",
    "for word,count in train_covered: \n",
    "    if word not in punctuations:\n",
    "        train_word.append(word)\n",
    "        train_count.append(count)\n",
    "        i+=1\n",
    "    if(i==15):\n",
    "        break"
   ]
  },
  {
   "cell_type": "code",
   "execution_count": 18,
   "metadata": {
    "execution": {
     "iopub.execute_input": "2021-02-02T06:21:38.921717Z",
     "iopub.status.busy": "2021-02-02T06:21:38.920634Z",
     "iopub.status.idle": "2021-02-02T06:21:38.927634Z",
     "shell.execute_reply": "2021-02-02T06:21:38.928480Z"
    },
    "papermill": {
     "duration": 0.062532,
     "end_time": "2021-02-02T06:21:38.928711",
     "exception": false,
     "start_time": "2021-02-02T06:21:38.866179",
     "status": "completed"
    },
    "tags": []
   },
   "outputs": [],
   "source": [
    "test_word=[]\n",
    "test_count=[]\n",
    "\n",
    "i=1\n",
    "for word,count in test_covered: \n",
    "    if word not in punctuations:\n",
    "        test_word.append(word)\n",
    "        test_count.append(count)\n",
    "        i+=1\n",
    "    if(i==15):\n",
    "        break"
   ]
  },
  {
   "cell_type": "code",
   "execution_count": 19,
   "metadata": {
    "execution": {
     "iopub.execute_input": "2021-02-02T06:21:39.101075Z",
     "iopub.status.busy": "2021-02-02T06:21:39.100123Z",
     "iopub.status.idle": "2021-02-02T06:21:39.452172Z",
     "shell.execute_reply": "2021-02-02T06:21:39.450729Z"
    },
    "papermill": {
     "duration": 0.437306,
     "end_time": "2021-02-02T06:21:39.452374",
     "exception": false,
     "start_time": "2021-02-02T06:21:39.015068",
     "status": "completed"
    },
    "tags": []
   },
   "outputs": [
    {
     "data": {
      "image/png": "[encoded data removed]",
      "text/plain": [
       "<Figure size 864x576 with 1 Axes>"
      ]
     },
     "metadata": {
      "needs_background": "light"
     },
     "output_type": "display_data"
    }
   ],
   "source": [
    "plt.figure(figsize=(12,8))\n",
    "sns.barplot(x=train_count,y=train_word).set_title('Count of 15 most used word in training set')\n",
    "plt.grid()"
   ]
  },
  {
   "cell_type": "code",
   "execution_count": 20,
   "metadata": {
    "execution": {
     "iopub.execute_input": "2021-02-02T06:21:39.759000Z",
     "iopub.status.busy": "2021-02-02T06:21:39.758239Z",
     "iopub.status.idle": "2021-02-02T06:21:39.949235Z",
     "shell.execute_reply": "2021-02-02T06:21:39.950193Z"
    },
    "papermill": {
     "duration": 0.413879,
     "end_time": "2021-02-02T06:21:39.950388",
     "exception": false,
     "start_time": "2021-02-02T06:21:39.536509",
     "status": "completed"
    },
    "tags": []
   },
   "outputs": [
    {
     "data": {
      "image/png": "[encoded data removed]",
      "text/plain": [
       "<Figure size 864x576 with 1 Axes>"
      ]
     },
     "metadata": {
      "needs_background": "light"
     },
     "output_type": "display_data"
    }
   ],
   "source": [
    "plt.figure(figsize=(12,8))\n",
    "sns.barplot(x=test_count,y=test_word).set_title('Count of 15 most used word in testing set')\n",
    "plt.grid()"
   ]
  },
  {
   "cell_type": "code",
   "execution_count": 21,
   "metadata": {
    "execution": {
     "iopub.execute_input": "2021-02-02T06:21:41.298458Z",
     "iopub.status.busy": "2021-02-02T06:21:41.145253Z",
     "iopub.status.idle": "2021-02-02T06:21:41.303474Z",
     "shell.execute_reply": "2021-02-02T06:21:41.303035Z"
    },
    "papermill": {
     "duration": 1.142657,
     "end_time": "2021-02-02T06:21:41.303614",
     "exception": false,
     "start_time": "2021-02-02T06:21:40.160957",
     "status": "completed"
    },
    "tags": []
   },
   "outputs": [
    {
     "data": {
      "text/plain": [
       "10687"
      ]
     },
     "execution_count": 21,
     "metadata": {},
     "output_type": "execute_result"
    }
   ],
   "source": [
    "del glove_embeddings,train_oov,test_oov\n",
    "gc.collect()"
   ]
  },
  {
   "cell_type": "markdown",
   "metadata": {
    "papermill": {
     "duration": 0.046148,
     "end_time": "2021-02-02T06:21:41.395413",
     "exception": false,
     "start_time": "2021-02-02T06:21:41.349265",
     "status": "completed"
    },
    "tags": []
   },
   "source": [
    "# Model Building"
   ]
  },
  {
   "cell_type": "code",
   "execution_count": 22,
   "metadata": {
    "execution": {
     "iopub.execute_input": "2021-02-02T06:21:41.492847Z",
     "iopub.status.busy": "2021-02-02T06:21:41.492100Z",
     "iopub.status.idle": "2021-02-02T06:21:41.494963Z",
     "shell.execute_reply": "2021-02-02T06:21:41.494501Z"
    },
    "papermill": {
     "duration": 0.052169,
     "end_time": "2021-02-02T06:21:41.495074",
     "exception": false,
     "start_time": "2021-02-02T06:21:41.442905",
     "status": "completed"
    },
    "tags": []
   },
   "outputs": [],
   "source": [
    "num_words=80000\n",
    "embeddings=256"
   ]
  },
  {
   "cell_type": "code",
   "execution_count": 23,
   "metadata": {
    "execution": {
     "iopub.execute_input": "2021-02-02T06:21:41.616628Z",
     "iopub.status.busy": "2021-02-02T06:21:41.611733Z",
     "iopub.status.idle": "2021-02-02T06:21:49.786607Z",
     "shell.execute_reply": "2021-02-02T06:21:49.786077Z"
    },
    "papermill": {
     "duration": 8.245147,
     "end_time": "2021-02-02T06:21:49.786751",
     "exception": false,
     "start_time": "2021-02-02T06:21:41.541604",
     "status": "completed"
    },
    "tags": []
   },
   "outputs": [],
   "source": [
    "tokenizer=Tokenizer(num_words=num_words,oov_token='<OOV>')\n",
    "tokenizer.fit_on_texts(X_train)\n",
    "word_index=tokenizer.word_index\n",
    "total_vocab=len(word_index)"
   ]
  },
  {
   "cell_type": "code",
   "execution_count": 24,
   "metadata": {
    "execution": {
     "iopub.execute_input": "2021-02-02T06:21:49.880727Z",
     "iopub.status.busy": "2021-02-02T06:21:49.880076Z",
     "iopub.status.idle": "2021-02-02T06:21:49.883458Z",
     "shell.execute_reply": "2021-02-02T06:21:49.884037Z"
    },
    "papermill": {
     "duration": 0.053162,
     "end_time": "2021-02-02T06:21:49.884217",
     "exception": false,
     "start_time": "2021-02-02T06:21:49.831055",
     "status": "completed"
    },
    "tags": []
   },
   "outputs": [
    {
     "name": "stdout",
     "output_type": "stream",
     "text": [
      "Vocabulary of the dataset is :  100954\n"
     ]
    }
   ],
   "source": [
    "print(\"Vocabulary of the dataset is : \",total_vocab)"
   ]
  },
  {
   "cell_type": "code",
   "execution_count": 25,
   "metadata": {
    "execution": {
     "iopub.execute_input": "2021-02-02T06:21:50.029908Z",
     "iopub.status.busy": "2021-02-02T06:21:50.029050Z",
     "iopub.status.idle": "2021-02-02T06:22:00.007095Z",
     "shell.execute_reply": "2021-02-02T06:22:00.006596Z"
    },
    "papermill": {
     "duration": 10.068487,
     "end_time": "2021-02-02T06:22:00.007229",
     "exception": false,
     "start_time": "2021-02-02T06:21:49.938742",
     "status": "completed"
    },
    "tags": []
   },
   "outputs": [],
   "source": [
    "sequences_train=tokenizer.texts_to_sequences(X_train)\n",
    "sequences_test=tokenizer.texts_to_sequences(X_test)\n",
    "\n",
    "max_len=max(max([len(x) for x in sequences_train]),max([len(x) for x in sequences_test]))\n",
    "\n",
    "train_padded=pad_sequences(sequences_train,maxlen=max_len)\n",
    "test_padded=pad_sequences(sequences_test,maxlen=max_len)\n"
   ]
  },
  {
   "cell_type": "code",
   "execution_count": 26,
   "metadata": {
    "execution": {
     "iopub.execute_input": "2021-02-02T06:22:00.103066Z",
     "iopub.status.busy": "2021-02-02T06:22:00.101694Z",
     "iopub.status.idle": "2021-02-02T06:22:00.223946Z",
     "shell.execute_reply": "2021-02-02T06:22:00.223236Z"
    },
    "papermill": {
     "duration": 0.172101,
     "end_time": "2021-02-02T06:22:00.224108",
     "exception": false,
     "start_time": "2021-02-02T06:22:00.052007",
     "status": "completed"
    },
    "tags": []
   },
   "outputs": [],
   "source": [
    "X_train,X_val,Y_train,Y_val=train_test_split(train_padded,Y_train,\n",
    "                                             test_size=0.05,random_state=10)"
   ]
  },
  {
   "cell_type": "code",
   "execution_count": 27,
   "metadata": {
    "execution": {
     "iopub.execute_input": "2021-02-02T06:22:00.551350Z",
     "iopub.status.busy": "2021-02-02T06:22:00.550533Z",
     "iopub.status.idle": "2021-02-02T06:22:03.925691Z",
     "shell.execute_reply": "2021-02-02T06:22:03.924793Z"
    },
    "papermill": {
     "duration": 3.463652,
     "end_time": "2021-02-02T06:22:03.925846",
     "exception": false,
     "start_time": "2021-02-02T06:22:00.462194",
     "status": "completed"
    },
    "tags": []
   },
   "outputs": [],
   "source": [
    "model= keras.Sequential()\n",
    "model.add(Embedding(num_words,embeddings,input_length=max_len))\n",
    "model.add(Conv1D(256,10,activation='relu'))\n",
    "model.add(keras.layers.Bidirectional(LSTM(128,return_sequences=True)))\n",
    "model.add(LSTM(64))\n",
    "model.add(keras.layers.Dropout(0.4))\n",
    "model.add(Dense(2,activation='softmax'))"
   ]
  },
  {
   "cell_type": "code",
   "execution_count": 28,
   "metadata": {
    "execution": {
     "iopub.execute_input": "2021-02-02T06:22:04.024274Z",
     "iopub.status.busy": "2021-02-02T06:22:04.023526Z",
     "iopub.status.idle": "2021-02-02T06:22:04.027116Z",
     "shell.execute_reply": "2021-02-02T06:22:04.024795Z"
    },
    "papermill": {
     "duration": 0.056877,
     "end_time": "2021-02-02T06:22:04.027276",
     "exception": false,
     "start_time": "2021-02-02T06:22:03.970399",
     "status": "completed"
    },
    "tags": []
   },
   "outputs": [
    {
     "name": "stdout",
     "output_type": "stream",
     "text": [
      "Model: \"sequential\"\n",
      "_________________________________________________________________\n",
      "Layer (type)                 Output Shape              Param #   \n",
      "=================================================================\n",
      "embedding (Embedding)        (None, 2527, 256)         20480000  \n",
      "_________________________________________________________________\n",
      "conv1d (Conv1D)              (None, 2518, 256)         655616    \n",
      "_________________________________________________________________\n",
      "bidirectional (Bidirectional (None, 2518, 256)         394240    \n",
      "_________________________________________________________________\n",
      "lstm_1 (LSTM)                (None, 64)                82176     \n",
      "_________________________________________________________________\n",
      "dropout (Dropout)            (None, 64)                0         \n",
      "_________________________________________________________________\n",
      "dense (Dense)                (None, 2)                 130       \n",
      "=================================================================\n",
      "Total params: 21,612,162\n",
      "Trainable params: 21,612,162\n",
      "Non-trainable params: 0\n",
      "_________________________________________________________________\n"
     ]
    }
   ],
   "source": [
    "model.summary()"
   ]
  },
  {
   "cell_type": "code",
   "execution_count": 29,
   "metadata": {
    "execution": {
     "iopub.execute_input": "2021-02-02T06:22:04.128666Z",
     "iopub.status.busy": "2021-02-02T06:22:04.128153Z",
     "iopub.status.idle": "2021-02-02T06:22:04.135260Z",
     "shell.execute_reply": "2021-02-02T06:22:04.134833Z"
    },
    "papermill": {
     "duration": 0.061658,
     "end_time": "2021-02-02T06:22:04.135374",
     "exception": false,
     "start_time": "2021-02-02T06:22:04.073716",
     "status": "completed"
    },
    "tags": []
   },
   "outputs": [],
   "source": [
    "model.compile(loss='binary_crossentropy',\n",
    "              optimizer='adam',\n",
    "              metrics=['accuracy']\n",
    "             )"
   ]
  },
  {
   "cell_type": "code",
   "execution_count": 30,
   "metadata": {
    "execution": {
     "iopub.execute_input": "2021-02-02T06:22:04.320974Z",
     "iopub.status.busy": "2021-02-02T06:22:04.320158Z",
     "iopub.status.idle": "2021-02-02T06:22:04.322962Z",
     "shell.execute_reply": "2021-02-02T06:22:04.322508Z"
    },
    "papermill": {
     "duration": 0.052161,
     "end_time": "2021-02-02T06:22:04.323081",
     "exception": false,
     "start_time": "2021-02-02T06:22:04.270920",
     "status": "completed"
    },
    "tags": []
   },
   "outputs": [],
   "source": [
    "es= EarlyStopping(monitor='val_accuracy',\n",
    "                  patience=2\n",
    "                 )\n",
    "\n",
    "checkpoints=ModelCheckpoint(filepath='./',\n",
    "                            monitor=\"val_accuracy\",\n",
    "                            verbose=0,\n",
    "                            save_best_only=True\n",
    "                           )\n",
    "\n",
    "callbacks=[es,checkpoints]"
   ]
  },
  {
   "cell_type": "code",
   "execution_count": 31,
   "metadata": {
    "execution": {
     "iopub.execute_input": "2021-02-02T06:22:04.417052Z",
     "iopub.status.busy": "2021-02-02T06:22:04.416527Z",
     "iopub.status.idle": "2021-02-02T07:21:53.879678Z",
     "shell.execute_reply": "2021-02-02T07:21:53.880393Z"
    },
    "papermill": {
     "duration": 3589.512875,
     "end_time": "2021-02-02T07:21:53.880594",
     "exception": false,
     "start_time": "2021-02-02T06:22:04.367719",
     "status": "completed"
    },
    "tags": []
   },
   "outputs": [
    {
     "name": "stdout",
     "output_type": "stream",
     "text": [
      "Epoch 1/5\n",
      "1336/1336 [==============================] - 887s 659ms/step - loss: 0.5086 - accuracy: 0.7400 - val_loss: 0.2759 - val_accuracy: 0.8916\n",
      "Epoch 2/5\n",
      "1336/1336 [==============================] - 885s 663ms/step - loss: 0.2067 - accuracy: 0.9220 - val_loss: 0.2405 - val_accuracy: 0.9040\n",
      "Epoch 3/5\n",
      "1336/1336 [==============================] - 889s 665ms/step - loss: 0.0986 - accuracy: 0.9680 - val_loss: 0.3111 - val_accuracy: 0.8969\n",
      "Epoch 4/5\n",
      "1336/1336 [==============================] - 897s 671ms/step - loss: 0.0486 - accuracy: 0.9850 - val_loss: 0.3403 - val_accuracy: 0.9040\n"
     ]
    }
   ],
   "source": [
    "history=model.fit(X_train,Y_train,validation_data=(X_val,Y_val),epochs=5,callbacks=callbacks)"
   ]
  },
  {
   "cell_type": "markdown",
   "metadata": {
    "papermill": {
     "duration": 1.417876,
     "end_time": "2021-02-02T07:21:56.712862",
     "exception": false,
     "start_time": "2021-02-02T07:21:55.294986",
     "status": "completed"
    },
    "tags": []
   },
   "source": [
    "# Model Evaluation"
   ]
  },
  {
   "cell_type": "code",
   "execution_count": 32,
   "metadata": {
    "execution": {
     "iopub.execute_input": "2021-02-02T07:21:59.892310Z",
     "iopub.status.busy": "2021-02-02T07:21:59.891577Z",
     "iopub.status.idle": "2021-02-02T07:21:59.895595Z",
     "shell.execute_reply": "2021-02-02T07:21:59.895110Z"
    },
    "papermill": {
     "duration": 1.58592,
     "end_time": "2021-02-02T07:21:59.895712",
     "exception": false,
     "start_time": "2021-02-02T07:21:58.309792",
     "status": "completed"
    },
    "tags": []
   },
   "outputs": [],
   "source": [
    "def plot_graph(history,string):\n",
    "    \n",
    "    plt.plot(history.history[string],label='training '+string)\n",
    "    plt.plot(history.history['val_'+string],label='validation '+string)\n",
    "    plt.legend()\n",
    "    plt.xlabel('epochs')\n",
    "    plt.ylabel(string)\n",
    "    plt.title(string+' vs epochs')\n",
    "    plt.show()"
   ]
  },
  {
   "cell_type": "code",
   "execution_count": 33,
   "metadata": {
    "execution": {
     "iopub.execute_input": "2021-02-02T07:22:02.860996Z",
     "iopub.status.busy": "2021-02-02T07:22:02.860056Z",
     "iopub.status.idle": "2021-02-02T07:22:03.029482Z",
     "shell.execute_reply": "2021-02-02T07:22:03.029009Z"
    },
    "papermill": {
     "duration": 1.620342,
     "end_time": "2021-02-02T07:22:03.029595",
     "exception": false,
     "start_time": "2021-02-02T07:22:01.409253",
     "status": "completed"
    },
    "tags": []
   },
   "outputs": [
    {
     "data": {
      "image/png": "[encoded data removed]",
      "text/plain": [
       "<Figure size 432x288 with 1 Axes>"
      ]
     },
     "metadata": {
      "needs_background": "light"
     },
     "output_type": "display_data"
    }
   ],
   "source": [
    "plot_graph(history,'loss')"
   ]
  },
  {
   "cell_type": "code",
   "execution_count": 34,
   "metadata": {
    "execution": {
     "iopub.execute_input": "2021-02-02T07:22:06.351858Z",
     "iopub.status.busy": "2021-02-02T07:22:06.351001Z",
     "iopub.status.idle": "2021-02-02T07:22:06.503418Z",
     "shell.execute_reply": "2021-02-02T07:22:06.503841Z"
    },
    "papermill": {
     "duration": 1.931542,
     "end_time": "2021-02-02T07:22:06.503991",
     "exception": false,
     "start_time": "2021-02-02T07:22:04.572449",
     "status": "completed"
    },
    "tags": []
   },
   "outputs": [
    {
     "data": {
      "image/png": "[encoded data removed]",
      "text/plain": [
       "<Figure size 432x288 with 1 Axes>"
      ]
     },
     "metadata": {
      "needs_background": "light"
     },
     "output_type": "display_data"
    }
   ],
   "source": [
    "plot_graph(history,'accuracy')"
   ]
  },
  {
   "cell_type": "code",
   "execution_count": 35,
   "metadata": {
    "execution": {
     "iopub.execute_input": "2021-02-02T07:22:09.643194Z",
     "iopub.status.busy": "2021-02-02T07:22:09.642064Z",
     "iopub.status.idle": "2021-02-02T07:22:10.377047Z",
     "shell.execute_reply": "2021-02-02T07:22:10.375594Z"
    },
    "papermill": {
     "duration": 2.425107,
     "end_time": "2021-02-02T07:22:10.377181",
     "exception": false,
     "start_time": "2021-02-02T07:22:07.952074",
     "status": "completed"
    },
    "tags": []
   },
   "outputs": [],
   "source": [
    "model.save('imdb_model.h5')"
   ]
  },
  {
   "cell_type": "code",
   "execution_count": 36,
   "metadata": {
    "execution": {
     "iopub.execute_input": "2021-02-02T07:22:13.262717Z",
     "iopub.status.busy": "2021-02-02T07:22:13.261869Z",
     "iopub.status.idle": "2021-02-02T07:22:37.083002Z",
     "shell.execute_reply": "2021-02-02T07:22:37.082338Z"
    },
    "papermill": {
     "duration": 25.25226,
     "end_time": "2021-02-02T07:22:37.083180",
     "exception": false,
     "start_time": "2021-02-02T07:22:11.830920",
     "status": "completed"
    },
    "tags": []
   },
   "outputs": [
    {
     "name": "stdout",
     "output_type": "stream",
     "text": [
      "Model Performance on test set\n",
      "157/157 [==============================] - 24s 151ms/step - loss: 0.3374 - accuracy: 0.8926\n",
      "{'loss': 0.3373664915561676, 'accuracy': 0.8925999999046326}\n"
     ]
    }
   ],
   "source": [
    "print(\"Model Performance on test set\")\n",
    "result = model.evaluate(test_padded,Y_test)\n",
    "print(dict(zip(model.metrics_names, result)))"
   ]
  }
 ],
 "metadata": {
  "kernelspec": {
   "display_name": "Python 3",
   "language": "python",
   "name": "python3"
  },
  "language_info": {
   "codemirror_mode": {
    "name": "ipython",
    "version": 3
   },
   "file_extension": ".py",
   "mimetype": "text/x-python",
   "name": "python",
   "nbconvert_exporter": "python",
   "pygments_lexer": "ipython3",
   "version": "3.8.10"
  },
  "papermill": {
   "default_parameters": {},
   "duration": 3787.567311,
   "end_time": "2021-02-02T07:22:47.016911",
   "environment_variables": {},
   "exception": null,
   "input_path": "__notebook__.ipynb",
   "output_path": "__notebook__.ipynb",
   "parameters": {},
   "start_time": "2021-02-02T06:19:39.449600",
   "version": "2.2.2"
  }
 },
 "nbformat": 4,
 "nbformat_minor": 4
}
